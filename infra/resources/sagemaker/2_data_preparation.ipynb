{
 "cells": [
  {
   "cell_type": "code",
   "execution_count": null,
   "metadata": {},
   "outputs": [],
   "source": [
    "import os\n",
    "\n",
    "from source.config import Config\n",
    "from source.preprocessing import pivot_data, sample_dataset\n",
    "from source.dataset import DatasetGenerator"
   ]
  },
  {
   "cell_type": "code",
   "execution_count": null,
   "metadata": {},
   "outputs": [],
   "source": [
    "config = Config(filename=\"config/config.yaml\", fetch_sensor_headers=False)\n",
    "config"
   ]
  },
  {
   "cell_type": "code",
   "execution_count": null,
   "metadata": {},
   "outputs": [],
   "source": [
    "dirname = os.path.dirname(config.fleet_dataset_fn)\n",
    "if not os.path.exists(dirname):\n",
    "    os.makedirs(dirname)"
   ]
  },
  {
   "cell_type": "markdown",
   "metadata": {},
   "source": [
    "# Defining the dataset\n",
    "You can define your own dataset or use our scripts to generate a toy dataset"
   ]
  },
  {
   "cell_type": "code",
   "execution_count": null,
   "metadata": {},
   "outputs": [],
   "source": [
    "should_generate_data = True"
   ]
  },
  {
   "cell_type": "code",
   "execution_count": null,
   "metadata": {},
   "outputs": [],
   "source": [
    "if should_generate_data:\n",
    "    fleet_statistics_fn = \"data/generation/fleet_statistics.csv\"\n",
    "    generator = DatasetGenerator(fleet_statistics_fn=fleet_statistics_fn,\n",
    "                                 fleet_info_fn=config.fleet_info_fn, \n",
    "                                 fleet_sensor_logs_fn=config.fleet_sensor_logs_fn, \n",
    "                                 period_ms=config.period_ms, \n",
    "                                 )\n",
    "    generator.generate_dataset()\n",
    "\n",
    "assert os.path.exists(config.fleet_info_fn), \"Please copy your data to {}\".format(config.fleet_info_fn)\n",
    "assert os.path.exists(config.fleet_sensor_logs_fn), \"Please copy your data to {}\".format(config.fleet_sensor_logs_fn)"
   ]
  },
  {
   "cell_type": "markdown",
   "metadata": {},
   "source": [
    "# Define the configuration the merged data"
   ]
  },
  {
   "cell_type": "markdown",
   "metadata": {},
   "source": [
    "# Merge the sensor data and fleet vehicle data together"
   ]
  },
  {
   "cell_type": "code",
   "execution_count": null,
   "metadata": {
    "scrolled": true
   },
   "outputs": [],
   "source": [
    "pivot_data(config)"
   ]
  },
  {
   "cell_type": "code",
   "execution_count": null,
   "metadata": {
    "pycharm": {
     "name": "#%%\n"
    }
   },
   "outputs": [],
   "source": [
    "sample_dataset(config)"
   ]
  }
 ],
 "metadata": {
  "kernelspec": {
   "display_name": "conda_pytorch_p36",
   "language": "python",
   "name": "conda_pytorch_p36"
  },
  "language_info": {
   "codemirror_mode": {
    "name": "ipython",
    "version": 3
   },
   "file_extension": ".py",
   "mimetype": "text/x-python",
   "name": "python",
   "nbconvert_exporter": "python",
   "pygments_lexer": "ipython3",
   "version": "3.6.10"
  }
 },
 "nbformat": 4,
 "nbformat_minor": 4
}
