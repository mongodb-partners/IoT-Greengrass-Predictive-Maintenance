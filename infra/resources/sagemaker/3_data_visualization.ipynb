{
 "cells": [
  {
   "cell_type": "code",
   "execution_count": null,
   "metadata": {},
   "outputs": [],
   "source": [
    "import pandas as pd\n",
    "import numpy as np\n",
    "import random\n",
    "\n",
    "import matplotlib.pyplot as plt\n",
    "\n",
    "import ipywidgets as widgets\n",
    "from ipywidgets import interact, interact_manual\n",
    "\n",
    "from source.config import Config\n",
    "from source.visualization.plot_utils import build_chart\n",
    "from source.dl_utils.dataset import PMDataset_torch\n",
    "\n",
    "np.random.seed(12345)\n",
    "\n",
    "%matplotlib inline\n",
    "plt.style.use('ggplot')\n",
    "colour_options = [\"#81ecec\", \"#a29bfe\", \"#fd79a8\", \"#ffeaa7\", \"#b2bec3\", \"#00b894\", \"#ff7675\", \"#e84393\", \"#e17055\"]"
   ]
  },
  {
   "cell_type": "markdown",
   "metadata": {},
   "source": [
    "# Define the data path in the config file"
   ]
  },
  {
   "cell_type": "code",
   "execution_count": null,
   "metadata": {},
   "outputs": [],
   "source": [
    "config = Config(filename=\"config/config.yaml\")"
   ]
  },
  {
   "cell_type": "markdown",
   "metadata": {},
   "source": [
    "# Check the input data"
   ]
  },
  {
   "cell_type": "code",
   "execution_count": null,
   "metadata": {},
   "outputs": [],
   "source": [
    "df = pd.read_csv(config.train_dataset_fn)\n",
    "@interact(x=(0, 20, 1))\n",
    "def show_articles_more_than(x=10):\n",
    "    return df.head(x)"
   ]
  },
  {
   "cell_type": "markdown",
   "metadata": {},
   "source": [
    "# Build the dataset"
   ]
  },
  {
   "cell_type": "code",
   "execution_count": null,
   "metadata": {},
   "outputs": [],
   "source": [
    "train_ds = PMDataset_torch(\n",
    "    config.train_dataset_fn,\n",
    "    sensor_headers=config.sensor_headers,\n",
    "    target_column=config.target_column,\n",
    "    standardize=True)\n",
    "\n",
    "properties = train_ds.vehicle_properties_headers.copy()\n",
    "properties.remove('vehicle_id')\n",
    "properties.remove('timestamp')\n",
    "properties.remove('period_ms')"
   ]
  },
  {
   "cell_type": "markdown",
   "metadata": {},
   "source": [
    "# Visualise data statistics\n",
    "## Visualise the types of vehicles\n",
    "### The distribution of make, year, body class, engine models, etc could be presented in pie charts"
   ]
  },
  {
   "cell_type": "code",
   "execution_count": null,
   "metadata": {},
   "outputs": [],
   "source": [
    "[default1, default2, default3, default4] = np.random.choice(properties, size=4, replace=False).tolist()\n",
    "\n",
    "def show_chart(\n",
    "    value1=default1, \n",
    "    value2=default2, \n",
    "    value3=default3, \n",
    "    value4=default4):\n",
    "    \n",
    "    coords = {0: (0, 0), 1: (0, 1), 2: (1, 0), 3: (1, 1)}\n",
    "    fig1, ax = plt.subplots(2, 2, figsize=(1500/108, 1300/108), dpi=108)\n",
    "    \n",
    "    for idx, value in enumerate([value1, value2, value3, value4]):\n",
    "        coord = coords[idx]\n",
    "        labels, sizes = build_chart(train_ds.vehicle_properties[value])\n",
    "        x_pos = [i for i, _ in enumerate(labels)]\n",
    "        colors = np.random.choice(colour_options, size=len(sizes))\n",
    "        ax[coord[0], coord[1]].bar(x_pos, sizes, color=colors)\n",
    "        ax[coord[0], coord[1]].set_xticks(x_pos)\n",
    "        ax[coord[0], coord[1]].set_xticklabels(labels, rotation=50)\n",
    "        ax[coord[0], coord[1]].set_title(value.capitalize().replace(\"_\", \" \"))\n",
    "        ax[coord[0], coord[1]].set_ylabel(\"%\")\n",
    "    \n",
    "    fig1.tight_layout()\n",
    "widgets.interactive(\n",
    "    show_chart, \n",
    "    value1=properties,\n",
    "    value2=properties,\n",
    "    value3=properties,\n",
    "    value4=properties)"
   ]
  },
  {
   "cell_type": "markdown",
   "metadata": {},
   "source": [
    "## Visualise the specific breakdown of the data\n",
    "### A more detail breakdown of the data is shown. For example, the different models of freightliners, or different models in a given year."
   ]
  },
  {
   "cell_type": "code",
   "execution_count": null,
   "metadata": {},
   "outputs": [],
   "source": [
    "def bd_update_plot(property1, value1, property2):\n",
    "    fig1 = plt.figure(figsize=(1500/108, 1000/108), dpi=108)\n",
    "\n",
    "    labels, sizes = build_chart(train_ds.select_data(**{property1: value1}).vehicle_properties[property2])\n",
    "    x_pos = [i for i, _ in enumerate(labels)]\n",
    "    colors = np.random.choice(colour_options, size=len(sizes))\n",
    "    plt.bar(x_pos, sizes, color=colors)\n",
    "    plt.xticks(x_pos, labels, rotation=50)\n",
    "    plt.title(\"{} {}\".format(str(value1).capitalize(), str(property2).lower()))\n",
    "\n",
    "bd_target_default = random.choice(properties)\n",
    "bd_target_selector = widgets.Dropdown(options=properties, value=bd_target_default)\n",
    "bd_target_value_selector = widgets.Dropdown()\n",
    "bd_secondary_selector = widgets.Dropdown(options=properties, value=random.choice(properties))\n",
    "\n",
    "def bd_update_selector(*args):\n",
    "    bd_target_value_selector.options = train_ds.vehicle_properties[bd_target_selector.value].unique().tolist()\n",
    "bd_target_selector.observe(bd_update_selector)\n",
    "bd_update_selector()\n",
    "\n",
    "widgets.interact(bd_update_plot, property1=bd_target_selector, value1=bd_target_value_selector, property2=bd_secondary_selector)"
   ]
  },
  {
   "cell_type": "markdown",
   "metadata": {},
   "source": [
    "## Log data comparison\n",
    "### An example of comparing between the means of two log data are between different years"
   ]
  },
  {
   "cell_type": "code",
   "execution_count": null,
   "metadata": {},
   "outputs": [],
   "source": [
    "target_default = random.choice(properties)\n",
    "log_target_selector = widgets.Dropdown(options=properties, value=target_default)\n",
    "log_target_value1_selector = widgets.Dropdown()\n",
    "log_target_value2_selector = widgets.Dropdown()\n",
    "\n",
    "def log_update_selector(*args):\n",
    "    log_target_value1_selector.options = train_ds.vehicle_properties[log_target_selector.value].unique().tolist()\n",
    "    log_target_value1_selector.value = random.choice(log_target_value1_selector.options)\n",
    "    log_target_value2_selector.options = train_ds.vehicle_properties[log_target_selector.value].unique().tolist()\n",
    "    log_target_value2_selector.value = random.choice(log_target_value2_selector.options)\n",
    "\n",
    "log_target_selector.observe(log_update_selector)\n",
    "log_update_selector()\n",
    "\n",
    "def log_update_plot(target, target_value1, target_value2):\n",
    "    fig, axs = plt.subplots(2, len(config.sensor_headers), figsize=(2300/108, 1000/108), dpi=108)\n",
    "    axs[0, 0].set_title(\"{} {}\".format(target_value1, target))\n",
    "    axs[1, 0].set_title(\"{} {}\".format(target_value2, target))\n",
    "\n",
    "    for i, sensor_header in enumerate(config.sensor_headers):\n",
    "        data_1 = train_ds.select_data(**{target: target_value1}).data.mean(0)\n",
    "        \n",
    "        axs[0, i].plot(data_1[:, i])\n",
    "        axs[0, i].set_title(\"{} {}\".format(target_value1, target))\n",
    "        axs[0, i].set_ylabel(\"Mean {} for {} {}\".format(sensor_header, target_value1, target))\n",
    "\n",
    "        data_2 = train_ds.select_data(**{target: target_value2}).data.mean(0)\n",
    "        axs[1, i].plot(data_2[:, i])\n",
    "        axs[1, i].set_ylabel(\"Mean {} for {} {}\".format(sensor_header, target_value2, target))\n",
    "\n",
    "widgets.interact(log_update_plot, target=log_target_selector, target_value1=log_target_value1_selector, target_value2=log_target_value2_selector)"
   ]
  },
  {
   "cell_type": "markdown",
   "metadata": {},
   "source": [
    "### Then we breakdown the means of the log data"
   ]
  },
  {
   "cell_type": "code",
   "execution_count": null,
   "metadata": {},
   "outputs": [],
   "source": [
    "target_default = random.choice(properties)\n",
    "log2_target1_selector = widgets.Dropdown(options=properties, value=target_default)\n",
    "log2_target1_value_selector = widgets.Dropdown()\n",
    "\n",
    "log2_target2_selector = widgets.Dropdown(options=properties, value=target_default)\n",
    "log2_target2_value1_selector = widgets.Dropdown()\n",
    "log2_target2_value2_selector = widgets.Dropdown()\n",
    "\n",
    "def log2_target1_update_selector(*args):\n",
    "    log2_target1_value_selector.options = train_ds.vehicle_properties[log2_target1_selector.value].unique().tolist()\n",
    "    log2_target1_value_selector.value = random.choice(log2_target1_value_selector.options)\n",
    "\n",
    "log2_target1_selector.observe(log2_target1_update_selector)\n",
    "log2_target1_update_selector()\n",
    "\n",
    "def log2_target2_update_selector(*args):\n",
    "    log2_target2_value1_selector.options = train_ds.vehicle_properties[log2_target2_selector.value].unique().tolist()\n",
    "    log2_target2_value1_selector.value = random.choice(log2_target2_value1_selector.options)\n",
    "    log2_target2_value2_selector.options = train_ds.vehicle_properties[log2_target2_selector.value].unique().tolist()\n",
    "    log2_target2_value2_selector.value = random.choice(log2_target2_value1_selector.options)\n",
    "\n",
    "log2_target2_selector.observe(log2_target2_update_selector)\n",
    "log2_target2_update_selector()\n",
    "\n",
    "\n",
    "def log2_update_plot(target1, target1_value, target2, target2_compare1, target2_compare2):\n",
    "    fig, axs = plt.subplots(2, len(config.sensor_headers), figsize=(2300/108, 1000/108), dpi=108)\n",
    "    \n",
    "    axs[0, 0].set_title(\"{} {}\".format(target1_value, target2_compare1))\n",
    "    axs[1, 0].set_title(\"{} {}\".format(target1_value, target2_compare2))\n",
    "\n",
    "    for i, sensor_header in enumerate(config.sensor_headers):\n",
    "        data_1 = train_ds.select_data(**{target1: target1_value, target2: target2_compare1}).data.mean(0)\n",
    "        \n",
    "        axs[0, i].plot(data_1[:, i])\n",
    "        axs[0, i].set_ylabel(\"Mean {} for {}\".format(sensor_header, target2_compare1))\n",
    "\n",
    "        data_2 = train_ds.select_data(**{target1: target1_value, target2: target2_compare2}).data.mean(0)\n",
    "        axs[1, i].plot(data_2[:, i])\n",
    "        axs[1, i].set_ylabel(\"Mean {} for {}\".format(sensor_header, target2_compare2))\n",
    "    \n",
    "widgets.interact(log2_update_plot, target1=log2_target1_selector, target1_value=log2_target1_value_selector, target2=log2_target2_selector, target2_compare1=log2_target2_value1_selector, target2_compare2=log2_target2_value2_selector)"
   ]
  },
  {
   "cell_type": "markdown",
   "metadata": {},
   "source": [
    "# Visualise 1 example"
   ]
  },
  {
   "cell_type": "code",
   "execution_count": null,
   "metadata": {},
   "outputs": [],
   "source": [
    "data, label = train_ds[0]\n",
    "fig, axs = plt.subplots(1, len(config.sensor_headers), figsize=(2000/108, 400/108), dpi=108)\n",
    "\n",
    "for i, sensor_header in enumerate(config.sensor_headers):\n",
    "    axs[i].plot(data[:, i])\n",
    "    axs[i].set_ylabel(\"{}\".format(sensor_header))"
   ]
  },
  {
   "cell_type": "code",
   "execution_count": null,
   "metadata": {},
   "outputs": [],
   "source": []
  }
 ],
 "metadata": {
  "kernelspec": {
   "display_name": "conda_pytorch_p36",
   "language": "python",
   "name": "conda_pytorch_p36"
  },
  "language_info": {
   "codemirror_mode": {
    "name": "ipython",
    "version": 3
   },
   "file_extension": ".py",
   "mimetype": "text/x-python",
   "name": "python",
   "nbconvert_exporter": "python",
   "pygments_lexer": "ipython3",
   "version": "3.6.10"
  }
 },
 "nbformat": 4,
 "nbformat_minor": 4
}
